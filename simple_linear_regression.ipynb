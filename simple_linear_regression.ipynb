{
 "cells": [
  {
   "cell_type": "markdown",
   "metadata": {
    "colab_type": "text",
    "id": "l_LulNCC8z96"
   },
   "source": [
    "# Simple Linear Regression"
   ]
  },
  {
   "cell_type": "code",
   "execution_count": null,
   "metadata": {},
   "outputs": [],
   "source": [
    "# Simple Linear Regression (단순 선형 회귀) 공식\n",
    "# y = b0 + b1*x1\n",
    "# y(DV) : 종속변수. 우리가 구하고자 하는 값. 보통 개인의 경력별 임금 변화 등을 나타낼 때 사용.\n",
    "    # or 학생이 공부한 시간에 따라 받는 성적\n",
    "    # 어떤 값에 따라 좌우되는 경우.\n",
    "\n",
    "# x(IV) : 독립변수. 종속변수의 값을 변화시키는 변수.\n",
    "    # x, y는 내제된 연관관계가 있음. 이걸 알아내는게 중요.\n",
    "    \n",
    "# b1 (coeffiecient) : 독립변수 x의 계수\n",
    "    # 계수는 x1의 변화가 미치는 영향을 나타냄. \n",
    "        # 이때의 x1의 변화란 x1의 단위 변경(unit change)\n",
    "             # x1의 단위 변경은 y의 단위 변경에 영향을 미침.\n",
    "                # 쉽게말해 y와 x1사이를 연결하는 장치. 그러므로 x1은 정비례한다고 할 수 있다.\n",
    "    # x의 변화가 왜 항상 y의 변화와 같은가?\n",
    "        # 비례 계수가 존재하기 때문. (비례 : 변화가 팽창하거나 수축하는 비례 기준)\n",
    "    # b1은 직선의 기울기 -> 기울기가 가파를 수록 경력에 따른 임금 상승이 더 높다.\n",
    "        # 경력이 4년차에서 -> 5년차가 됨. 임금 상승이 얼마나 이루어지는가? (b1, 즉 계수에 달림)\n",
    "            #즉 계수 b1이 작다면 기울기 또한 완만할 것이고, 이는 경력에 따른 임금의 인상 폭이 적다는 뜻.\n",
    "                # 만약 기울기가 더 크다면, 경력에 따른 임금 인상 폭이 더 크다는 뜻\n",
    "        # 빨간 점은 yi (실제 수령하는 금액)\n",
    "        # 초록 점은 yi^ (관측에 따른 추세선의 알맞은 금액 -> 추세선에 따른 값)\n",
    "            # 초록점은 즉, 해당 사원의 경력 수준에 알맞은 임금을 나타냄. (추세선이 예측하는 해당 사원의 임금)\n",
    "            # 즉, 초록색 수직선은 해당 사원이 실제로 수령하는 금액과, 원칙적으로 수령해야 하는 금액간의 차이를 나타냄\n",
    "             # 추세선을 따를 때 수령해야 마땅한 금액 \n",
    "                # 그러므로 초록색 수직선은 언제나 똑같다. 종속 변수의 종류와는 무관하게. (임금, 성적 뭐든간에)\n",
    "                    # 초록색 선은 어떤 독립 변수 수준에서 관측된 실제 데이터와, 모델링 된 데이터 간의 차이를 나타냄.\n",
    "                     # 최적선을 구할 때 각 초록색 직선의 길이를 구한 다음 이를 제곱하고 합을 구함 SUM(y - Y^)^2\n",
    "                        #제곱된 값의 합을 구했다면, 최솟값을 찾아야 함.\n",
    "                        # Simple Linear Regression은 이런 분석 추세선을 아주 많이 그림.\n",
    "                            # 수집된 관측 데이터를 토대로 가능한 모든 추세선을 그림. 공식을 매번 계산도 해줌.\n",
    "                            # 이런 모든 정보를 기록하고 최솟값을 찾는데, 공ㅅ기에서 최솟값을 찾아\n",
    "                             # 제곱의 합이 가장 적은 하나의 직선 그래프를 찾아줌.\n",
    "                                # 이때 찾아낸 linear graph 가 Best fitting line이고 \n",
    "                                    # 이를 '최소 제곱법' Ordinary least squares 이라고 함.\n",
    "        \n",
    "# b0 (Constant) : 상수\n",
    "    # 직선그래프에서 y축과 겹쳐지는 지점 ( x1 = 0 일때)"
   ]
  },
  {
   "cell_type": "code",
   "execution_count": null,
   "metadata": {},
   "outputs": [],
   "source": [
    "# ex) 임금과 경력의 연관관계\n",
    "# 임금 : y축 (구하고자 하는 것)\n",
    "# 경력 : x축\n",
    "\n",
    "# simple Linear Regression -> 임금 = b0 + b1*(경력)\n",
    "\n",
    "#방정식의 의미는. 해당 데이터에 알맞은(best fitting) 직선 그래프를 그리는 것.\n",
    "    # 즉, 데이터에 알맞은 최적의 직선 그래프\n",
    "        # 수집된 데이터에 가장 근접한 최적의 직선"
   ]
  },
  {
   "cell_type": "code",
   "execution_count": null,
   "metadata": {},
   "outputs": [],
   "source": [
    "        \n",
    "# 회귀 (Regression) 이란 머신러닝의 한 갈래로, 연속적으로 이어지는 값을 예측한다.\n",
    "    # 임금이나 온도, 혹은 비슷한 종류의 연속적인 수치를 예측할 때 이용한다.\n",
    "    \n",
    "# Simple Linear Regressoin \n",
    "    # 하나의 독립변수\n",
    "    # 하나의 feature (입력변수)\n",
    "    # 하나의 연속적인 값의 예측으로 구성된다."
   ]
  },
  {
   "cell_type": "code",
   "execution_count": null,
   "metadata": {},
   "outputs": [],
   "source": [
    "# DATA.SCV 살펴보기\n",
    " # feature은 경력, 종속변수는 연봉이다."
   ]
  },
  {
   "cell_type": "markdown",
   "metadata": {
    "colab_type": "text",
    "id": "xpXdowrE9DxW"
   },
   "source": [
    "## Importing the libraries"
   ]
  },
  {
   "cell_type": "code",
   "execution_count": 3,
   "metadata": {
    "colab": {},
    "colab_type": "code",
    "id": "nhKd4hWx9GFt"
   },
   "outputs": [],
   "source": [
    "# 데이터 전처리를 위한 tool\n",
    "import numpy as np\n",
    "import matplotlib.pyplot as plt\n",
    "import pandas as pd"
   ]
  },
  {
   "cell_type": "markdown",
   "metadata": {
    "colab_type": "text",
    "id": "6JhpWJi59J1p"
   },
   "source": [
    "## Importing the dataset"
   ]
  },
  {
   "cell_type": "code",
   "execution_count": 4,
   "metadata": {
    "colab": {},
    "colab_type": "code",
    "id": "f8GfYDZ59O18"
   },
   "outputs": [],
   "source": [
    "# 1단계 : 데이터 전처리 단계\n",
    "dataset = pd.read_csv('Salary_Data.csv')\n",
    "x = dataset.iloc[:, :-1].values\n",
    "y = dataset.iloc[:, -1].values"
   ]
  },
  {
   "cell_type": "markdown",
   "metadata": {
    "colab_type": "text",
    "id": "AyhQaTwP9RzG"
   },
   "source": [
    "## Splitting the dataset into the Training set and Test set"
   ]
  },
  {
   "cell_type": "code",
   "execution_count": 5,
   "metadata": {},
   "outputs": [],
   "source": [
    "# 개체별로 분리하여 모델을 따로 훈련하고 평가할 수 있게 됨.\n",
    "from sklearn.model_selection import train_test_split\n",
    "x_train, x_test, y_train, y_test = train_test_split(x, y, test_size = 0.2, random_state = 0)\n",
    "# 전처리 준비 끝"
   ]
  },
  {
   "cell_type": "markdown",
   "metadata": {
    "colab_type": "text",
    "id": "ZijQwFMQ9itx"
   },
   "source": [
    "## Training the Simple Linear Regression model on the Training set"
   ]
  },
  {
   "cell_type": "code",
   "execution_count": 6,
   "metadata": {},
   "outputs": [],
   "source": [
    "# 2단계 : train set에서 단순 선형 회귀 모델을 훈련하는 작업\n",
    " # 이로써 회사 내 사원의 경력 연차와 이에 상응하는 임금 간의 상관관계를 알 수 있게 된다.\n",
    "    # 선형 회귀 모델은 상관관계를 파악하고 계산할 것이다.\n",
    "     # 그 다음 이를 토대로 모델이 훈련하지 못한 새로운 관측 데이터를 예측할 수 있게 된다."
   ]
  },
  {
   "cell_type": "code",
   "execution_count": 7,
   "metadata": {
    "scrolled": false
   },
   "outputs": [],
   "source": [
    "# 2-1 : 첫 번째로 해야할 길은 알맞은 클래스를 불러오는 것\n",
    " # 이 클래스를 이용하여 단순 선형 회귀 Model을 Build할 것이다.\n",
    "from sklearn.linear_model import LinearRegression\n",
    "regressor = LinearRegression() # 단순 선형 회귀 모델을 생성"
   ]
  },
  {
   "cell_type": "code",
   "execution_count": 8,
   "metadata": {},
   "outputs": [
    {
     "data": {
      "text/html": [
       "<style>#sk-container-id-1 {color: black;background-color: white;}#sk-container-id-1 pre{padding: 0;}#sk-container-id-1 div.sk-toggleable {background-color: white;}#sk-container-id-1 label.sk-toggleable__label {cursor: pointer;display: block;width: 100%;margin-bottom: 0;padding: 0.3em;box-sizing: border-box;text-align: center;}#sk-container-id-1 label.sk-toggleable__label-arrow:before {content: \"▸\";float: left;margin-right: 0.25em;color: #696969;}#sk-container-id-1 label.sk-toggleable__label-arrow:hover:before {color: black;}#sk-container-id-1 div.sk-estimator:hover label.sk-toggleable__label-arrow:before {color: black;}#sk-container-id-1 div.sk-toggleable__content {max-height: 0;max-width: 0;overflow: hidden;text-align: left;background-color: #f0f8ff;}#sk-container-id-1 div.sk-toggleable__content pre {margin: 0.2em;color: black;border-radius: 0.25em;background-color: #f0f8ff;}#sk-container-id-1 input.sk-toggleable__control:checked~div.sk-toggleable__content {max-height: 200px;max-width: 100%;overflow: auto;}#sk-container-id-1 input.sk-toggleable__control:checked~label.sk-toggleable__label-arrow:before {content: \"▾\";}#sk-container-id-1 div.sk-estimator input.sk-toggleable__control:checked~label.sk-toggleable__label {background-color: #d4ebff;}#sk-container-id-1 div.sk-label input.sk-toggleable__control:checked~label.sk-toggleable__label {background-color: #d4ebff;}#sk-container-id-1 input.sk-hidden--visually {border: 0;clip: rect(1px 1px 1px 1px);clip: rect(1px, 1px, 1px, 1px);height: 1px;margin: -1px;overflow: hidden;padding: 0;position: absolute;width: 1px;}#sk-container-id-1 div.sk-estimator {font-family: monospace;background-color: #f0f8ff;border: 1px dotted black;border-radius: 0.25em;box-sizing: border-box;margin-bottom: 0.5em;}#sk-container-id-1 div.sk-estimator:hover {background-color: #d4ebff;}#sk-container-id-1 div.sk-parallel-item::after {content: \"\";width: 100%;border-bottom: 1px solid gray;flex-grow: 1;}#sk-container-id-1 div.sk-label:hover label.sk-toggleable__label {background-color: #d4ebff;}#sk-container-id-1 div.sk-serial::before {content: \"\";position: absolute;border-left: 1px solid gray;box-sizing: border-box;top: 0;bottom: 0;left: 50%;z-index: 0;}#sk-container-id-1 div.sk-serial {display: flex;flex-direction: column;align-items: center;background-color: white;padding-right: 0.2em;padding-left: 0.2em;position: relative;}#sk-container-id-1 div.sk-item {position: relative;z-index: 1;}#sk-container-id-1 div.sk-parallel {display: flex;align-items: stretch;justify-content: center;background-color: white;position: relative;}#sk-container-id-1 div.sk-item::before, #sk-container-id-1 div.sk-parallel-item::before {content: \"\";position: absolute;border-left: 1px solid gray;box-sizing: border-box;top: 0;bottom: 0;left: 50%;z-index: -1;}#sk-container-id-1 div.sk-parallel-item {display: flex;flex-direction: column;z-index: 1;position: relative;background-color: white;}#sk-container-id-1 div.sk-parallel-item:first-child::after {align-self: flex-end;width: 50%;}#sk-container-id-1 div.sk-parallel-item:last-child::after {align-self: flex-start;width: 50%;}#sk-container-id-1 div.sk-parallel-item:only-child::after {width: 0;}#sk-container-id-1 div.sk-dashed-wrapped {border: 1px dashed gray;margin: 0 0.4em 0.5em 0.4em;box-sizing: border-box;padding-bottom: 0.4em;background-color: white;}#sk-container-id-1 div.sk-label label {font-family: monospace;font-weight: bold;display: inline-block;line-height: 1.2em;}#sk-container-id-1 div.sk-label-container {text-align: center;}#sk-container-id-1 div.sk-container {/* jupyter's `normalize.less` sets `[hidden] { display: none; }` but bootstrap.min.css set `[hidden] { display: none !important; }` so we also need the `!important` here to be able to override the default hidden behavior on the sphinx rendered scikit-learn.org. See: https://github.com/scikit-learn/scikit-learn/issues/21755 */display: inline-block !important;position: relative;}#sk-container-id-1 div.sk-text-repr-fallback {display: none;}</style><div id=\"sk-container-id-1\" class=\"sk-top-container\"><div class=\"sk-text-repr-fallback\"><pre>LinearRegression()</pre><b>In a Jupyter environment, please rerun this cell to show the HTML representation or trust the notebook. <br />On GitHub, the HTML representation is unable to render, please try loading this page with nbviewer.org.</b></div><div class=\"sk-container\" hidden><div class=\"sk-item\"><div class=\"sk-estimator sk-toggleable\"><input class=\"sk-toggleable__control sk-hidden--visually\" id=\"sk-estimator-id-1\" type=\"checkbox\" checked><label for=\"sk-estimator-id-1\" class=\"sk-toggleable__label sk-toggleable__label-arrow\">LinearRegression</label><div class=\"sk-toggleable__content\"><pre>LinearRegression()</pre></div></div></div></div></div>"
      ],
      "text/plain": [
       "LinearRegression()"
      ]
     },
     "execution_count": 8,
     "metadata": {},
     "output_type": "execute_result"
    }
   ],
   "source": [
    "# 2-2 : 이 모델을 train set 까지 연결해야한다. 이때 연결 작업에서 fit method를 사용함.\n",
    " # fit method를 호출하여 단순 선형 회귀 모델을 train set에서 훈련할 수 있게 되었다.\n",
    "regressor.fit(x_train, y_train)\n",
    "    # 선형 회귀 모델이 생성"
   ]
  },
  {
   "cell_type": "markdown",
   "metadata": {
    "colab_type": "text",
    "id": "wa2T1Lq89o5H"
   },
   "source": [
    "## Predicting the Test set results"
   ]
  },
  {
   "cell_type": "code",
   "execution_count": 9,
   "metadata": {},
   "outputs": [],
   "source": [
    "# 3던계 : test 결과값을 예측하는 단계\n",
    " # test set의 관측의 결과값을 predict 하는 단계\n",
    "    # 여기서 관측값이란 사원.\n",
    "     # 즉, predict method에 6명 (train set에 속하는 20%) 사원 중 개개인의 경력 연차(YearsExperience)를 입력하는 작업이다.\n",
    "        # 그러면 모델이 알아서 임금을 예측할 것 이다. \n",
    "         # 사원 6명의 경력 연차에 predict 메소드를 호출하면, 임금 예측값 여섯개를 얻게된다.\n",
    "            # 그 다음으로, 예측 임금과 실제 임금을 비교할 것이다."
   ]
  },
  {
   "cell_type": "code",
   "execution_count": 10,
   "metadata": {},
   "outputs": [],
   "source": [
    "# 여기서 feature 값만 입력할 것이다. \n",
    " # 이때 feature은 경력 연차 (YearsExperience)를 가르킨다. \n",
    "    # feature 값만 입력하는 이유는 이 숫자를 토대로 임금을 예측할 것이기 때문이다.\n",
    "     # predict method는 값을 return한다.\n",
    "y_pred = regressor.predict(x_test)\n",
    "\n",
    "# 여기서 주의해야 할점! 구분해야한다.\n",
    " # y_test는 실제 임금을\n",
    " # y_pred는 예측 임금을 나타내는 변수이다.\n",
    "  # 그 다음으로 y_pred를 y_test와 비교하는데, \n",
    "    # 이때 y_train을 train set의 예측 임금값과 비교하는 작업도 같이 진행할 것이다."
   ]
  },
  {
   "cell_type": "markdown",
   "metadata": {
    "colab_type": "text",
    "id": "-zSoMZ-P9v8t"
   },
   "source": [
    "## Visualising the Training set results"
   ]
  },
  {
   "cell_type": "code",
   "execution_count": 14,
   "metadata": {},
   "outputs": [
    {
     "data": {
      "image/png": "[encoded data removed]",
      "text/plain": [
       "<Figure size 640x480 with 1 Axes>"
      ]
     },
     "metadata": {},
     "output_type": "display_data"
    }
   ],
   "source": [
    "# 실제 임금과 예측 임금을 표로 보자\n",
    "plt.scatter(x_train, y_train, color = 'red')\n",
    "\n",
    "# 회귀선을 그리는 단계 , 회귀선이란 실제 결과값에 가장 근접한 예측을 나타내는 선을말함.\n",
    " # 이번 경우 실제 결과값은 곧 실제 임금이 될 것임.\n",
    "    # 예측 임금을 나타내는 점은 직선으로 표현된다. 선형 함수 형태로.\n",
    "     # 따라서 plot method를 사용할 것이다.\n",
    "      # plot method란 함수의 곡선을 타나낼 때 이용합니다. \n",
    "       # 이때 좌표란 예측값의 점이다. 예측 임금의 좌표를 입력하면 함수가 알아서 예측점을 따라 직선을 그려줄 것이다.\n",
    "plt.plot(x_train, regressor.predict(x_train), color = 'blue') \n",
    "# train set의 결과값을 도식화하는 작업이기 때문에 x좌표는 x_train\n",
    " # y좌표 : 그래프에서 train set의 예측 임금을 나타내는 부분.\n",
    "    # x_train에서 predic method를 호출하게 되면 train set의 예측 임금 데이터를 불러온다.\n",
    "     # 이때 x_train은 사원 개개인의 YearsEcperience data이다.\n",
    "        \n",
    "# 이로써 실제 임금과 예측 임금 간의 차이를 한눈에 볼 수 있게된다.\n",
    "\n",
    "plt.title('Salary vs Experience (Training set)')\n",
    "plt.xlabel('Years of Experience')\n",
    "plt.ylabel('Salary')\n",
    "plt.show()"
   ]
  },
  {
   "cell_type": "markdown",
   "metadata": {
    "colab_type": "text",
    "id": "EUX1Vhsv97ZT"
   },
   "source": [
    "## Visualising the Test set results"
   ]
  },
  {
   "cell_type": "code",
   "execution_count": 15,
   "metadata": {},
   "outputs": [
    {
     "data": {
      "image/png": "[encoded data removed]",
      "text/plain": [
       "<Figure size 640x480 with 1 Axes>"
      ]
     },
     "metadata": {},
     "output_type": "display_data"
    }
   ],
   "source": [
    "# test set 결과\n",
    "plt.scatter(x_test, y_test, color = 'red')\n",
    "\n",
    "# plot method는 최종적으로 구할 회귀선은 고유한 방정식으로부터 도출되는 결과이므로\n",
    " # test set의 예측 임금은 train set의 예측 임금과 똑같은 회귀 선상에 놓이게된다.\n",
    "     # 따라서 바꿀 필요는 없다.\n",
    "plt.plot(x_train, regressor.predict(x_train), color = 'blue') \n",
    "plt.title('Salary vs Experience (test set)')\n",
    "plt.xlabel('Years of Experience')\n",
    "plt.ylabel('Salary')\n",
    "plt.show()\n",
    "\n",
    "# 여기서 확인해야 할 것은 모델이 훈련되지 않은 테스트 세트에서도 같은 결과를 도출하냐는 것이다.\n",
    " # 즉, 실제 임금과 비교했을 때 비슷한 수준의 유사성을 갖는 회귀선이 생기는지를 봐야한다.(새 관측값에서 이를 평가)\n",
    "    # test set에서 그릴 그래프가\n",
    "     # 실제 임금과 예측 임금을 나타내는 그래프이다. "
   ]
  }
 ],
 "metadata": {
  "colab": {
   "authorship_tag": "ABX9TyP1VVwrQU8S68bmX5lftYWC",
   "name": "Simple Linear Regression",
   "provenance": [],
   "toc_visible": true
  },
  "kernelspec": {
   "display_name": "Python 3 (ipykernel)",
   "language": "python",
   "name": "python3"
  },
  "language_info": {
   "codemirror_mode": {
    "name": "ipython",
    "version": 3
   },
   "file_extension": ".py",
   "mimetype": "text/x-python",
   "name": "python",
   "nbconvert_exporter": "python",
   "pygments_lexer": "ipython3",
   "version": "3.10.9"
  }
 },
 "nbformat": 4,
 "nbformat_minor": 1
}
