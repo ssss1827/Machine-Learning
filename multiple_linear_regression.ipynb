{
 "cells": [
  {
   "cell_type": "markdown",
   "metadata": {
    "colab_type": "text",
    "id": "CazISR8X_HUG"
   },
   "source": [
    "# Multiple Linear Regression"
   ]
  },
  {
   "cell_type": "code",
   "execution_count": null,
   "metadata": {},
   "outputs": [],
   "source": [
    "# 개념\n",
    "# 조합이나 쌍을 이루는 b와 X가 있고 꽤 여러 개가 나올 수 있음 얼마나 많은 회귀변수가 이 식에 있는 지에 따라서.\n",
    " # 예를 들어서 급여의 경우 몇 년 동안 일한 경험이 있는지, \n",
    "    # 학력이 어느 정도인지, 얼마나 지식이 있는지, 얼마나 직장에서 시간을 보내는지,.. 등 \n",
    "\n",
    "# 만약 학생의 성적이 어느 정도인지 볼때라면?\n",
    " # 독립 변수는 학생이 얼마나 시험 공부를 했는지,\n",
    "    # 시험 전 수면 시간은 어느 정도였는지, 학기 중 수업을 몇 개 들었는지와 같은 것."
   ]
  },
  {
   "cell_type": "code",
   "execution_count": null,
   "metadata": {},
   "outputs": [],
   "source": [
    "# 다중 선형 회귀 모형을 설계를 위한 조건\n",
    " # 1. 선형성 (Linearity)\n",
    " # 2. 등분산성 (Homoscedasticity)\n",
    " # 3. 다변량농도 (Multivariate normality)\n",
    " # 4. 오차 독립성 (independence of errors)\n",
    " # 5. 다중공선성의 부재 (Lack of multicollinearity)\n",
    "\n",
    "# 이 가정이 참인지 확인해야 올바른 Linear Regression 모형을 만들었다고 확신가능."
   ]
  },
  {
   "cell_type": "code",
   "execution_count": null,
   "metadata": {},
   "outputs": [],
   "source": [
    "# Dummy Variables (가변수)\n",
    "# 우리가 직면한 과제는 벤처 캐피탈 펀드가 알고 싶어하는\n",
    "    # 이익과 다양한 비용에 소비된 돈의 양과의 연관성으로\n",
    "        #연구개발과 행정과 마케팅, 그리고 회사가 위치한 곳과 profit 사이의 연관성을 찾는 것.\n",
    "        \n",
    "# Profit 과 이 독립변수들과의 연관성이 있을까?\n",
    " # 어떻게 해야 모형을 만들어서 연구개발, 행정, 마케팅 비용과 주 위치로 이익을 예측할 수 있을까?\n",
    "\n",
    "# data set에서 '문자 '가 있다.\n",
    " # 이번 경우에는 state가 범주형 변수이기에 등식에 추가할 수 없습니다\n",
    "  # 이 상황에서 조치를 취해야겠죠 이렇게 범주형 변수를 맞닥트렸을 때\n",
    "    # 회귀 모형에서 해야 할 일은 가변수를 만드는 일입니다.\n",
    "    \n",
    "# state를 'New York', 'California' 두 개의 col로 쪼개서 dummy variables로 만든다.\n",
    " # 그 다음 b4*D1 이라는 변수를 더한다. (D1 : New York의 Dummy variables) \n",
    "    # (D1이 0이면 California)\n",
    "     # 이 경우 California가 0이기 때문에 계수가없다.\n",
    "        # 하지만 실제로 회귀 모형이 작동할 때는 디폴트로\n",
    "            # 그 주나 그 변수, 여러분이 포함하지 않은 그 가변수가 디폴트 상황으로 적용되거든요\n",
    "              # 이 회귀 모형에서 말이죠\n",
    "                # 캘리포니아의 계수가 상수인 b0에 들어가게 된다.\n",
    "                 # 즉 스위치처럼 캘리포니아가 1이되면 b0가 켜지고,\n",
    "                    # 뉴욕이 1이되면 D1이 1이되면서 b4가 추가(켜진다.)\n",
    "                     # 각 dummy variable에 해당되는 종속변수 계수가 식에 추가된다."
   ]
  },
  {
   "cell_type": "code",
   "execution_count": null,
   "metadata": {},
   "outputs": [],
   "source": [
    "# Dummy variable Trap\n",
    " # 두 개의 Dummy variables를 모두 포함하면 절대 안된다.\n",
    " # 모든 변수를 dummy variable에 포함시키면 회귀분석에서 dummy trap에 걸려 회귀분석 되지 않음.\n",
    "  # 더미변수 해석\n",
    "    # 제거된 (빠진) 범주가 비교의 기준 (reference group)이 됨 (해석할때의 기준)\n",
    "     # 그러므로 여기서 기준그룹은 모든 더미변수에서 '0'인 범주\n",
    "\n",
    "# 필요한 변수의 개수 : 범주의 개수 - 1\n"
   ]
  },
  {
   "cell_type": "markdown",
   "metadata": {
    "colab_type": "text",
    "id": "pOyqYHTk_Q57"
   },
   "source": [
    "## Importing the libraries"
   ]
  },
  {
   "cell_type": "code",
   "execution_count": 0,
   "metadata": {
    "colab": {},
    "colab_type": "code",
    "id": "T_YHJjnD_Tja"
   },
   "outputs": [],
   "source": [
    "import numpy as np\n",
    "import matplotlib.pyplot as plt\n",
    "import pandas as pd"
   ]
  },
  {
   "cell_type": "markdown",
   "metadata": {
    "colab_type": "text",
    "id": "vgC61-ah_WIz"
   },
   "source": [
    "## Importing the dataset"
   ]
  },
  {
   "cell_type": "code",
   "execution_count": 0,
   "metadata": {
    "colab": {},
    "colab_type": "code",
    "id": "UrxyEKGn_ez7"
   },
   "outputs": [],
   "source": [
    "dataset = pd.read_csv('50_Startups.csv')\n",
    "X = dataset.iloc[:, :-1].values\n",
    "y = dataset.iloc[:, -1].values"
   ]
  },
  {
   "cell_type": "markdown",
   "metadata": {
    "colab_type": "text",
    "id": "VadrvE7s_lS9"
   },
   "source": [
    "## Encoding categorical data"
   ]
  },
  {
   "cell_type": "markdown",
   "metadata": {
    "colab_type": "text",
    "id": "WemVnqgeA70k"
   },
   "source": [
    "## Splitting the dataset into the Training set and Test set"
   ]
  },
  {
   "cell_type": "markdown",
   "metadata": {
    "colab_type": "text",
    "id": "k-McZVsQBINc"
   },
   "source": [
    "## Training the Multiple Linear Regression model on the Training set"
   ]
  },
  {
   "cell_type": "markdown",
   "metadata": {
    "colab_type": "text",
    "id": "xNkXL1YQBiBT"
   },
   "source": [
    "## Predicting the Test set results"
   ]
  }
 ],
 "metadata": {
  "colab": {
   "authorship_tag": "ABX9TyPhYhte6t7H4wEK4xPpDWT7",
   "name": "Multiple Linear Regression",
   "provenance": [],
   "toc_visible": true
  },
  "kernelspec": {
   "display_name": "Python 3 (ipykernel)",
   "language": "python",
   "name": "python3"
  },
  "language_info": {
   "codemirror_mode": {
    "name": "ipython",
    "version": 3
   },
   "file_extension": ".py",
   "mimetype": "text/x-python",
   "name": "python",
   "nbconvert_exporter": "python",
   "pygments_lexer": "ipython3",
   "version": "3.10.9"
  }
 },
 "nbformat": 4,
 "nbformat_minor": 1
}
